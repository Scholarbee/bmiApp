{
 "cells": [
  {
   "cell_type": "code",
   "execution_count": 2,
   "metadata": {},
   "outputs": [
    {
     "name": "stdout",
     "output_type": "stream",
     "text": [
      "Please provide the following anwers:\n",
      "Enter your name: Isaac\n",
      "Enter any adjective: what\n",
      "Enter any animal name: cow\n",
      "Enter any verb: move\n",
      "Enter any exclamation word: go\n",
      "Enter any verb: stop\n",
      "Enter any verb: come\n",
      "\n",
      "Hello ISAAC this is your store...\n",
      "\n",
      "The other day, I was really in trouble. It all started when I saw a very\n",
      "what cow move down the hallway. \"go!\" I yield. But all \n",
      "I could think to do was to stop over and over. Miraculously.\n",
      "that caused it to stop, but not before it tried to come\n",
      "right in front of the family.\n"
     ]
    }
   ],
   "source": [
    "\n",
    "print(\"Please provide the following anwers:\")\n",
    "\n",
    "dict = {\n",
    "    'name': input(\"Enter your name: \"),\n",
    "    'adjective': input(\"Enter any adjective: \"),\n",
    "    'animal': input(\"Enter any animal name: \"),\n",
    "    'verb1': input(\"Enter any verb: \"),\n",
    "    'exclamation': input(\"Enter any exclamation word: \"),\n",
    "    'verb2': input(\"Enter any verb: \"),\n",
    "    'verb3': input(\"Enter any verb: \")\n",
    "}\n",
    "\n",
    "\n",
    "print('\\n'\"Hello \"+ dict['name'].upper() +\" this is your store...\"'\\n\\n'\n",
    "     \"The other day, I was really in trouble. It all started when I saw a very\"'\\n'\n",
    "     + dict['adjective']+\" \"+dict['animal']+\" \"+dict['verb1']+\" down the hallway. \"+'\"'+dict['exclamation']\n",
    "      +'!\" I yield. But all \\nI could think to do was to '+dict['verb2']\n",
    "      +\" over and over. Miraculously.\\nthat caused it to stop, but not before it tried to \"\n",
    "      +dict['verb3']+'\\n'\n",
    "     \"right in front of the family.\"     \n",
    "     )\n",
    "\n",
    "\n",
    "\n"
   ]
  },
  {
   "cell_type": "code",
   "execution_count": null,
   "metadata": {},
   "outputs": [],
   "source": []
  },
  {
   "cell_type": "code",
   "execution_count": null,
   "metadata": {},
   "outputs": [],
   "source": []
  }
 ],
 "metadata": {
  "kernelspec": {
   "display_name": "Python 3",
   "language": "python",
   "name": "python3"
  },
  "language_info": {
   "codemirror_mode": {
    "name": "ipython",
    "version": 3
   },
   "file_extension": ".py",
   "mimetype": "text/x-python",
   "name": "python",
   "nbconvert_exporter": "python",
   "pygments_lexer": "ipython3",
   "version": "3.7.6"
  }
 },
 "nbformat": 4,
 "nbformat_minor": 4
}
